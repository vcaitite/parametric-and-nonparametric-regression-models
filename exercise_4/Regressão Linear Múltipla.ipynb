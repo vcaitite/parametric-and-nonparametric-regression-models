{
 "cells": [
  {
   "cell_type": "markdown",
   "metadata": {},
   "source": [
    "# Lista de Exercícios 4\n",
    "**Aluno**: Vítor Gabriel Reis Caitité"
   ]
  },
  {
   "cell_type": "code",
   "execution_count": 1,
   "metadata": {},
   "outputs": [],
   "source": [
    "import matplotlib.pyplot as plt\n",
    "import pandas as pd\n",
    "import numpy as np\n",
    "from math import *\n",
    "from scipy import stats\n",
    "import statsmodels.api as sm"
   ]
  },
  {
   "cell_type": "code",
   "execution_count": 2,
   "metadata": {},
   "outputs": [
    {
     "data": {
      "text/html": [
       "<div>\n",
       "<style scoped>\n",
       "    .dataframe tbody tr th:only-of-type {\n",
       "        vertical-align: middle;\n",
       "    }\n",
       "\n",
       "    .dataframe tbody tr th {\n",
       "        vertical-align: top;\n",
       "    }\n",
       "\n",
       "    .dataframe thead th {\n",
       "        text-align: right;\n",
       "    }\n",
       "</style>\n",
       "<table border=\"1\" class=\"dataframe\">\n",
       "  <thead>\n",
       "    <tr style=\"text-align: right;\">\n",
       "      <th></th>\n",
       "      <th>CRIM</th>\n",
       "      <th>ZN</th>\n",
       "      <th>INDUS</th>\n",
       "      <th>CHAS</th>\n",
       "      <th>NOX</th>\n",
       "      <th>RM</th>\n",
       "      <th>AGE</th>\n",
       "      <th>DIS</th>\n",
       "      <th>RAD</th>\n",
       "      <th>TAX</th>\n",
       "      <th>PTRATIO</th>\n",
       "      <th>B</th>\n",
       "      <th>LSTAT</th>\n",
       "      <th>MEDV</th>\n",
       "    </tr>\n",
       "  </thead>\n",
       "  <tbody>\n",
       "    <tr>\n",
       "      <th>0</th>\n",
       "      <td>0.00632</td>\n",
       "      <td>18.0</td>\n",
       "      <td>2.31</td>\n",
       "      <td>0</td>\n",
       "      <td>538.0</td>\n",
       "      <td>6575.0</td>\n",
       "      <td>65.2</td>\n",
       "      <td>4.0900</td>\n",
       "      <td>1</td>\n",
       "      <td>296</td>\n",
       "      <td>15.3</td>\n",
       "      <td>396.90</td>\n",
       "      <td>4.98</td>\n",
       "      <td>24.0</td>\n",
       "    </tr>\n",
       "    <tr>\n",
       "      <th>1</th>\n",
       "      <td>0.02731</td>\n",
       "      <td>0.0</td>\n",
       "      <td>7.07</td>\n",
       "      <td>0</td>\n",
       "      <td>469.0</td>\n",
       "      <td>6421.0</td>\n",
       "      <td>78.9</td>\n",
       "      <td>4.9671</td>\n",
       "      <td>2</td>\n",
       "      <td>242</td>\n",
       "      <td>17.8</td>\n",
       "      <td>396.90</td>\n",
       "      <td>9.14</td>\n",
       "      <td>21.6</td>\n",
       "    </tr>\n",
       "    <tr>\n",
       "      <th>2</th>\n",
       "      <td>0.02729</td>\n",
       "      <td>0.0</td>\n",
       "      <td>7.07</td>\n",
       "      <td>0</td>\n",
       "      <td>469.0</td>\n",
       "      <td>7185.0</td>\n",
       "      <td>61.1</td>\n",
       "      <td>4.9671</td>\n",
       "      <td>2</td>\n",
       "      <td>242</td>\n",
       "      <td>17.8</td>\n",
       "      <td>392.83</td>\n",
       "      <td>4.03</td>\n",
       "      <td>34.7</td>\n",
       "    </tr>\n",
       "    <tr>\n",
       "      <th>3</th>\n",
       "      <td>0.03237</td>\n",
       "      <td>0.0</td>\n",
       "      <td>2.18</td>\n",
       "      <td>0</td>\n",
       "      <td>458.0</td>\n",
       "      <td>6998.0</td>\n",
       "      <td>45.8</td>\n",
       "      <td>6.0622</td>\n",
       "      <td>3</td>\n",
       "      <td>222</td>\n",
       "      <td>18.7</td>\n",
       "      <td>394.63</td>\n",
       "      <td>2.94</td>\n",
       "      <td>33.4</td>\n",
       "    </tr>\n",
       "    <tr>\n",
       "      <th>4</th>\n",
       "      <td>0.06905</td>\n",
       "      <td>0.0</td>\n",
       "      <td>2.18</td>\n",
       "      <td>0</td>\n",
       "      <td>458.0</td>\n",
       "      <td>7147.0</td>\n",
       "      <td>54.2</td>\n",
       "      <td>6.0622</td>\n",
       "      <td>3</td>\n",
       "      <td>222</td>\n",
       "      <td>18.7</td>\n",
       "      <td>396.90</td>\n",
       "      <td>5.33</td>\n",
       "      <td>36.2</td>\n",
       "    </tr>\n",
       "  </tbody>\n",
       "</table>\n",
       "</div>"
      ],
      "text/plain": [
       "      CRIM    ZN  INDUS  CHAS    NOX      RM   AGE     DIS  RAD  TAX  PTRATIO  \\\n",
       "0  0.00632  18.0   2.31     0  538.0  6575.0  65.2  4.0900    1  296     15.3   \n",
       "1  0.02731   0.0   7.07     0  469.0  6421.0  78.9  4.9671    2  242     17.8   \n",
       "2  0.02729   0.0   7.07     0  469.0  7185.0  61.1  4.9671    2  242     17.8   \n",
       "3  0.03237   0.0   2.18     0  458.0  6998.0  45.8  6.0622    3  222     18.7   \n",
       "4  0.06905   0.0   2.18     0  458.0  7147.0  54.2  6.0622    3  222     18.7   \n",
       "\n",
       "        B  LSTAT  MEDV  \n",
       "0  396.90   4.98  24.0  \n",
       "1  396.90   9.14  21.6  \n",
       "2  392.83   4.03  34.7  \n",
       "3  394.63   2.94  33.4  \n",
       "4  396.90   5.33  36.2  "
      ]
     },
     "execution_count": 2,
     "metadata": {},
     "output_type": "execute_result"
    }
   ],
   "source": [
    "dataset = pd.read_csv('~/Documents/UFMG/Doutorado/materias/Modelos_de_Regressao/atividade_4/boston_house_prices.csv', header=0, sep=\",\", engine='python')\n",
    "dataset.head(5)"
   ]
  },
  {
   "cell_type": "code",
   "execution_count": 3,
   "metadata": {},
   "outputs": [],
   "source": [
    "# Selecionando as variáveis de ambiente requeridas:\n",
    "X = dataset.drop([\"MEDV\"], axis=1)\n",
    "y = dataset[\"MEDV\"]"
   ]
  },
  {
   "cell_type": "markdown",
   "metadata": {},
   "source": [
    "## Modelo de Regressão Linear Múltipla utilizando o pacote \"statsmodels\"\n",
    "\n",
    "Ajuste do modelo de regressão linear múltipla, considerando as variáveis independentes:\n",
    "\n",
    "![table1](independentes.png)\n",
    "\n",
    "e a variável dependente:\n",
    "\n",
    "![table2](y.png)"
   ]
  },
  {
   "cell_type": "code",
   "execution_count": 4,
   "metadata": {},
   "outputs": [
    {
     "name": "stdout",
     "output_type": "stream",
     "text": [
      "                            OLS Regression Results                            \n",
      "==============================================================================\n",
      "Dep. Variable:                   MEDV   R-squared:                       0.654\n",
      "Model:                            OLS   Adj. R-squared:                  0.644\n",
      "Method:                 Least Squares   F-statistic:                     71.40\n",
      "Date:                Fri, 08 Nov 2024   Prob (F-statistic):          2.83e-104\n",
      "Time:                        20:12:38   Log-Likelihood:                -1572.0\n",
      "No. Observations:                 506   AIC:                             3172.\n",
      "Df Residuals:                     492   BIC:                             3231.\n",
      "Df Model:                          13                                         \n",
      "Covariance Type:            nonrobust                                         \n",
      "==============================================================================\n",
      "                 coef    std err          t      P>|t|      [0.025      0.975]\n",
      "------------------------------------------------------------------------------\n",
      "const         49.4240      3.166     15.610      0.000      43.203      55.645\n",
      "CRIM           0.0004      0.000      1.998      0.046    6.96e-06       0.001\n",
      "ZN             0.0230      0.014      1.597      0.111      -0.005       0.051\n",
      "INDUS          0.0201      0.067      0.300      0.764      -0.111       0.152\n",
      "CHAS           3.0562      0.999      3.060      0.002       1.094       5.019\n",
      "NOX           -0.0004      0.001     -0.373      0.709      -0.003       0.002\n",
      "RM             0.0002      0.000      1.856      0.064   -1.36e-05       0.000\n",
      "AGE            0.0453      0.013      3.439      0.001       0.019       0.071\n",
      "DIS          3.89e-05      0.000      0.197      0.844      -0.000       0.000\n",
      "RAD            0.3401      0.072      4.714      0.000       0.198       0.482\n",
      "TAX           -0.0167      0.004     -3.863      0.000      -0.025      -0.008\n",
      "PTRATIO       -1.1153      0.139     -8.049      0.000      -1.388      -0.843\n",
      "B              0.0087      0.003      2.798      0.005       0.003       0.015\n",
      "LSTAT         -0.8515      0.049    -17.377      0.000      -0.948      -0.755\n",
      "==============================================================================\n",
      "Omnibus:                      126.943   Durbin-Watson:                   1.108\n",
      "Prob(Omnibus):                  0.000   Jarque-Bera (JB):              286.778\n",
      "Skew:                           1.305   Prob(JB):                     5.33e-63\n",
      "Kurtosis:                       5.605   Cond. No.                     7.85e+04\n",
      "==============================================================================\n",
      "\n",
      "Notes:\n",
      "[1] Standard Errors assume that the covariance matrix of the errors is correctly specified.\n",
      "[2] The condition number is large, 7.85e+04. This might indicate that there are\n",
      "strong multicollinearity or other numerical problems.\n"
     ]
    }
   ],
   "source": [
    "X = sm.add_constant(X)\n",
    "model = sm.OLS(y, X)\n",
    "results = model.fit() \n",
    "print(results.summary())\n"
   ]
  },
  {
   "cell_type": "markdown",
   "metadata": {},
   "source": [
    "### Remoção de Variáveis do Modelo\n",
    "\n",
    "Remoção das variáveis  do modelo com P-valor > 0.05."
   ]
  },
  {
   "cell_type": "code",
   "execution_count": 5,
   "metadata": {},
   "outputs": [
    {
     "data": {
      "text/html": [
       "<div>\n",
       "<style scoped>\n",
       "    .dataframe tbody tr th:only-of-type {\n",
       "        vertical-align: middle;\n",
       "    }\n",
       "\n",
       "    .dataframe tbody tr th {\n",
       "        vertical-align: top;\n",
       "    }\n",
       "\n",
       "    .dataframe thead th {\n",
       "        text-align: right;\n",
       "    }\n",
       "</style>\n",
       "<table border=\"1\" class=\"dataframe\">\n",
       "  <thead>\n",
       "    <tr style=\"text-align: right;\">\n",
       "      <th></th>\n",
       "      <th>const</th>\n",
       "      <th>CRIM</th>\n",
       "      <th>AGE</th>\n",
       "      <th>RAD</th>\n",
       "      <th>TAX</th>\n",
       "      <th>PTRATIO</th>\n",
       "      <th>B</th>\n",
       "      <th>LSTAT</th>\n",
       "    </tr>\n",
       "  </thead>\n",
       "  <tbody>\n",
       "    <tr>\n",
       "      <th>0</th>\n",
       "      <td>1.0</td>\n",
       "      <td>0.00632</td>\n",
       "      <td>65.2</td>\n",
       "      <td>1</td>\n",
       "      <td>296</td>\n",
       "      <td>15.3</td>\n",
       "      <td>396.90</td>\n",
       "      <td>4.98</td>\n",
       "    </tr>\n",
       "    <tr>\n",
       "      <th>1</th>\n",
       "      <td>1.0</td>\n",
       "      <td>0.02731</td>\n",
       "      <td>78.9</td>\n",
       "      <td>2</td>\n",
       "      <td>242</td>\n",
       "      <td>17.8</td>\n",
       "      <td>396.90</td>\n",
       "      <td>9.14</td>\n",
       "    </tr>\n",
       "    <tr>\n",
       "      <th>2</th>\n",
       "      <td>1.0</td>\n",
       "      <td>0.02729</td>\n",
       "      <td>61.1</td>\n",
       "      <td>2</td>\n",
       "      <td>242</td>\n",
       "      <td>17.8</td>\n",
       "      <td>392.83</td>\n",
       "      <td>4.03</td>\n",
       "    </tr>\n",
       "    <tr>\n",
       "      <th>3</th>\n",
       "      <td>1.0</td>\n",
       "      <td>0.03237</td>\n",
       "      <td>45.8</td>\n",
       "      <td>3</td>\n",
       "      <td>222</td>\n",
       "      <td>18.7</td>\n",
       "      <td>394.63</td>\n",
       "      <td>2.94</td>\n",
       "    </tr>\n",
       "    <tr>\n",
       "      <th>4</th>\n",
       "      <td>1.0</td>\n",
       "      <td>0.06905</td>\n",
       "      <td>54.2</td>\n",
       "      <td>3</td>\n",
       "      <td>222</td>\n",
       "      <td>18.7</td>\n",
       "      <td>396.90</td>\n",
       "      <td>5.33</td>\n",
       "    </tr>\n",
       "  </tbody>\n",
       "</table>\n",
       "</div>"
      ],
      "text/plain": [
       "   const     CRIM   AGE  RAD  TAX  PTRATIO       B  LSTAT\n",
       "0    1.0  0.00632  65.2    1  296     15.3  396.90   4.98\n",
       "1    1.0  0.02731  78.9    2  242     17.8  396.90   9.14\n",
       "2    1.0  0.02729  61.1    2  242     17.8  392.83   4.03\n",
       "3    1.0  0.03237  45.8    3  222     18.7  394.63   2.94\n",
       "4    1.0  0.06905  54.2    3  222     18.7  396.90   5.33"
      ]
     },
     "execution_count": 5,
     "metadata": {},
     "output_type": "execute_result"
    }
   ],
   "source": [
    "X.drop([\"ZN\", \"INDUS\", \"NOX\", \"CHAS\", \"RM\", \"DIS\"], axis=1, inplace=True)\n",
    "X.head()"
   ]
  },
  {
   "cell_type": "markdown",
   "metadata": {},
   "source": [
    "#### Geração de um novo modelo para o novo dataset selecionado"
   ]
  },
  {
   "cell_type": "code",
   "execution_count": 6,
   "metadata": {},
   "outputs": [
    {
     "name": "stdout",
     "output_type": "stream",
     "text": [
      "                            OLS Regression Results                            \n",
      "==============================================================================\n",
      "Dep. Variable:                   MEDV   R-squared:                       0.642\n",
      "Model:                            OLS   Adj. R-squared:                  0.637\n",
      "Method:                 Least Squares   F-statistic:                     127.5\n",
      "Date:                Fri, 08 Nov 2024   Prob (F-statistic):          9.34e-107\n",
      "Time:                        20:12:38   Log-Likelihood:                -1580.5\n",
      "No. Observations:                 506   AIC:                             3177.\n",
      "Df Residuals:                     498   BIC:                             3211.\n",
      "Df Model:                           7                                         \n",
      "Covariance Type:            nonrobust                                         \n",
      "==============================================================================\n",
      "                 coef    std err          t      P>|t|      [0.025      0.975]\n",
      "------------------------------------------------------------------------------\n",
      "const         53.5403      2.666     20.083      0.000      48.302      58.778\n",
      "CRIM           0.0004      0.000      1.977      0.049    2.55e-06       0.001\n",
      "AGE            0.0424      0.011      3.716      0.000       0.020       0.065\n",
      "RAD            0.3511      0.070      5.043      0.000       0.214       0.488\n",
      "TAX           -0.0163      0.004     -4.375      0.000      -0.024      -0.009\n",
      "PTRATIO       -1.2334      0.132     -9.357      0.000      -1.492      -0.974\n",
      "B              0.0090      0.003      2.926      0.004       0.003       0.015\n",
      "LSTAT         -0.8789      0.048    -18.417      0.000      -0.973      -0.785\n",
      "==============================================================================\n",
      "Omnibus:                      131.433   Durbin-Watson:                   1.068\n",
      "Prob(Omnibus):                  0.000   Jarque-Bera (JB):              302.839\n",
      "Skew:                           1.342   Prob(JB):                     1.73e-66\n",
      "Kurtosis:                       5.675   Cond. No.                     1.28e+04\n",
      "==============================================================================\n",
      "\n",
      "Notes:\n",
      "[1] Standard Errors assume that the covariance matrix of the errors is correctly specified.\n",
      "[2] The condition number is large, 1.28e+04. This might indicate that there are\n",
      "strong multicollinearity or other numerical problems.\n"
     ]
    }
   ],
   "source": [
    "model = sm.OLS(y, X)\n",
    "results = model.fit() \n",
    "print(results.summary())"
   ]
  },
  {
   "cell_type": "markdown",
   "metadata": {},
   "source": [
    "## Replicando os resultados utilizando abordagem matricial\n",
    "\n",
    "A regressão linear múltipla pode ser representada pela equação:\n",
    "\n",
    "$y=X\\beta+\\epsilon$, \n",
    "\n",
    "sendo:\n",
    "\n",
    "- $y$ é o vetor da variável dependente;\n",
    "- $X$ é a matriz de variáveis independentes (com a constante);\n",
    "- $\\beta$ é o vetor de coeficientes (estimadores);\n",
    "- $\\epsilon$ é o vetor de resíduos.\n",
    "\n"
   ]
  },
  {
   "cell_type": "markdown",
   "metadata": {},
   "source": [
    "### Estimadores ($\\hat\\beta$)\n",
    "\n",
    "$\\hat{\\beta} = (X^T X)^{-1} X^T y$"
   ]
  },
  {
   "cell_type": "code",
   "execution_count": 7,
   "metadata": {},
   "outputs": [
    {
     "name": "stdout",
     "output_type": "stream",
     "text": [
      "0    53.5403\n",
      "1     0.0004\n",
      "2     0.0424\n",
      "3     0.3511\n",
      "4    -0.0163\n",
      "5    -1.2334\n",
      "6     0.0090\n",
      "7    -0.8789\n",
      "dtype: float64\n"
     ]
    }
   ],
   "source": [
    "beta_hat = np.linalg.inv(X.T @ X) @ X.T @ y\n",
    "print(round(beta_hat, 4))"
   ]
  },
  {
   "cell_type": "markdown",
   "metadata": {},
   "source": [
    "É possível perceber que esses valores são os mesmos encontrados pelo modelo desenvolvido utilizando o pacote \"statsmodels\"."
   ]
  },
  {
   "cell_type": "markdown",
   "metadata": {},
   "source": [
    "### Resíduos ($\\epsilon$)\n",
    "\n",
    "$\\epsilon = y - \\hat{y}$\n",
    "\n",
    "sendo:\n",
    "\n",
    "- $\\hat{y} = X \\hat{\\beta}$"
   ]
  },
  {
   "cell_type": "code",
   "execution_count": 8,
   "metadata": {},
   "outputs": [
    {
     "name": "stdout",
     "output_type": "stream",
     "text": [
      "0      -8.1745\n",
      "1      -5.6459\n",
      "2       3.7541\n",
      "3       2.5616\n",
      "4       7.0856\n",
      "        ...   \n",
      "501     0.8827\n",
      "502    -1.8024\n",
      "503    -2.1320\n",
      "504    -3.1905\n",
      "505   -11.7309\n",
      "Name: MEDV, Length: 506, dtype: float64\n"
     ]
    }
   ],
   "source": [
    "y_hat = X.to_numpy() @ beta_hat\n",
    "epsilon = y - y_hat\n",
    "print(round(epsilon, 4))"
   ]
  },
  {
   "cell_type": "markdown",
   "metadata": {},
   "source": [
    "Calculando o somatório da diferença entre os resíduos encontrados pelo modelo do pacote e o implementado pode-se observar que o resultado é 0, como esperado."
   ]
  },
  {
   "cell_type": "code",
   "execution_count": 9,
   "metadata": {},
   "outputs": [
    {
     "name": "stdout",
     "output_type": "stream",
     "text": [
      "0.0\n"
     ]
    }
   ],
   "source": [
    "print(round(sum(epsilon - results.resid), 6))"
   ]
  },
  {
   "cell_type": "markdown",
   "metadata": {},
   "source": [
    "### R-quadrado (R^2)\n",
    "\n",
    "\n",
    "$R^2 = 1 - \\frac{\\text{SSE}}{\\text{SST}}$\n",
    "\n",
    "onde:\n",
    "\n",
    "- Soma dos quadrados dos resíduos (SSE):\n",
    "\n",
    "  $\\text{SSE} = \\sum (y - \\hat{y})^2$\n",
    "\n",
    "- Soma total dos quadrados (SST):\n",
    "  \n",
    "  $\\text{SST} = \\sum (y - \\bar{y})^2$"
   ]
  },
  {
   "cell_type": "code",
   "execution_count": 10,
   "metadata": {},
   "outputs": [
    {
     "name": "stdout",
     "output_type": "stream",
     "text": [
      "R^2: 0.642\n"
     ]
    }
   ],
   "source": [
    "SSE = np.sum(epsilon**2)\n",
    "SST = np.sum((y - np.mean(y))**2)\n",
    "R2 = 1 - SSE / SST\n",
    "print(\"R^2:\", round(R2,3))"
   ]
  },
  {
   "cell_type": "markdown",
   "metadata": {},
   "source": [
    "Esse é exatamente o mesmo valor encontrado pelo modelo desenvolvido utilizando o pacote \"statsmodels\"."
   ]
  },
  {
   "cell_type": "markdown",
   "metadata": {},
   "source": [
    "### Desvio-padrão dos estimadores\n",
    "\n",
    "Tem-se que $\\text{Cov}(\\hat{\\beta}) = \\sigma^2 (X^T X)^{-1}$\n",
    "\n",
    "onde:\n",
    "$\\sigma^2 = \\frac{\\text{SSE}}{n - p}$\n",
    "\n",
    "Assim, o desvio padrão de cada estimador será a raiz quadrada dos elementos diagonais dessa matriz. Como pode-se ver abaixo, os valores encontrado correspondem aos encontrados utilizando o pacote \"statsmodels\"."
   ]
  },
  {
   "cell_type": "code",
   "execution_count": 11,
   "metadata": {},
   "outputs": [
    {
     "name": "stdout",
     "output_type": "stream",
     "text": [
      "Desvio-padrão dos estimadores: [2.666 0.    0.011 0.07  0.004 0.132 0.003 0.048]\n"
     ]
    }
   ],
   "source": [
    "n, p = X.shape\n",
    "sigma2 = SSE / (n - p)\n",
    "cov_beta_hat = sigma2 * np.linalg.inv(X.T @ X)\n",
    "std_beta_hat = np.sqrt(np.diag(cov_beta_hat)) \n",
    "np.set_printoptions(suppress=True, precision=3)\n",
    "print(\"Desvio-padrão dos estimadores:\", std_beta_hat)"
   ]
  },
  {
   "cell_type": "markdown",
   "metadata": {},
   "source": [
    "### Desvio-padrão dos resíduos\n",
    "\n",
    "$\\text{Std residual} = \\sqrt{\\frac{\\text{SSE}}{n - p}}$\n",
    "\n",
    "sendo que:\n",
    "\n",
    "- \"n\" é o número de observações,\n",
    "- \"p\" é o número de parâmetros (incluindo o intercepto)."
   ]
  },
  {
   "cell_type": "code",
   "execution_count": 12,
   "metadata": {},
   "outputs": [
    {
     "name": "stdout",
     "output_type": "stream",
     "text": [
      "Desvio-padrão residual: 5.542884571805483\n"
     ]
    }
   ],
   "source": [
    "std_epsilon = np.sqrt(SSE / (n - p))\n",
    "print(\"Desvio-padrão residual:\", std_epsilon)"
   ]
  },
  {
   "cell_type": "markdown",
   "metadata": {},
   "source": [
    "Pode-se perceber, abaixo, que esse é o mesmo desvio padrão residual encontrado considerando o modelo gerado a partir do pacote \"statsmodels\"."
   ]
  },
  {
   "cell_type": "code",
   "execution_count": 13,
   "metadata": {},
   "outputs": [
    {
     "data": {
      "text/plain": [
       "5.542884571805483"
      ]
     },
     "execution_count": 13,
     "metadata": {},
     "output_type": "execute_result"
    }
   ],
   "source": [
    "# Residual Standard Error of the model\n",
    "np.sqrt(results.scale)"
   ]
  },
  {
   "cell_type": "markdown",
   "metadata": {},
   "source": [
    "### P-Valor\n",
    "\n",
    "Os p-valores são calculados com base no teste t-Student para cada coeficiente, sendo:\n",
    "\n",
    "$t_i = \\frac{\\hat{\\beta}_i}{\\text{desvio-padrão de } \\hat{\\beta}_i}$.\n",
    "\n",
    "Assim:\n",
    "\n",
    "$p\\text{-valor} = 2 \\times \\left(1 - F_t(|t|)\\right)$\n",
    "\n",
    "onde:\n",
    "\n",
    "- $F_t$ é a função de distribuição acumulada (CDF) da distribuição t com n−p graus de liberdade;\n",
    "- $∣t∣$ é o valor absoluto do valor t calculado para o coeficiente.\n"
   ]
  },
  {
   "cell_type": "code",
   "execution_count": 14,
   "metadata": {},
   "outputs": [
    {
     "name": "stdout",
     "output_type": "stream",
     "text": [
      "P-valores: [0.    0.049 0.    0.    0.    0.    0.004 0.   ]\n"
     ]
    }
   ],
   "source": [
    "t_values = beta_hat/std_beta_hat\n",
    "p_values = [2 * (1 - stats.t.cdf(np.abs(t), df=n - p)) for t in t_values]\n",
    "np.set_printoptions(suppress=True, precision=3)\n",
    "print(\"P-valores:\", (np.array(p_values)))"
   ]
  },
  {
   "cell_type": "markdown",
   "metadata": {},
   "source": [
    "Os valores acima correspondem exatamente aos p-valores encontrados pelo pacote \"statsmodels\"."
   ]
  },
  {
   "cell_type": "markdown",
   "metadata": {},
   "source": [
    "### Estatística $F$\n",
    "\n",
    "Por fim, decidiu-se também verificar a estatística F, como explicado na seção 3.7.1 da disciplina.\n",
    "\n",
    "$F = \\frac{\\left(\\frac{\\text{SSR}}{p - 1}\\right)}{\\left(\\frac{\\text{SSE}}{n - p}\\right)}$\n",
    "\n",
    "sendo:\n",
    "\n",
    "- $\\text{SSR} = \\sum (\\hat{y} - \\bar{y})^2$;\n",
    "- $\\text{SSE} = \\sum (y - \\hat{y})^2$;\n",
    "- p: número de parâmetros do modelo (com o intercepto);\n",
    "- n: número de observações."
   ]
  },
  {
   "cell_type": "code",
   "execution_count": 15,
   "metadata": {},
   "outputs": [
    {
     "name": "stdout",
     "output_type": "stream",
     "text": [
      "F-statistic: 127.5\n"
     ]
    }
   ],
   "source": [
    "SSR = np.sum((y_hat - np.mean(y))**2)\n",
    "f_statistic = (SSR / (p - 1)) / (SSE / (n - p))\n",
    "print(\"F-statistic:\", round(f_statistic, 1))"
   ]
  },
  {
   "cell_type": "markdown",
   "metadata": {},
   "source": [
    "Novamente, percebe-se que o mesmo valor para a estatística F foi encontrado utilizando o pacote \"statsmodels\"."
   ]
  }
 ],
 "metadata": {
  "kernelspec": {
   "display_name": "k39",
   "language": "python",
   "name": "k39"
  },
  "language_info": {
   "codemirror_mode": {
    "name": "ipython",
    "version": 3
   },
   "file_extension": ".py",
   "mimetype": "text/x-python",
   "name": "python",
   "nbconvert_exporter": "python",
   "pygments_lexer": "ipython3",
   "version": "3.9.14"
  },
  "orig_nbformat": 4
 },
 "nbformat": 4,
 "nbformat_minor": 2
}
